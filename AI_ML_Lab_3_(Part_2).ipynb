{
  "nbformat": 4,
  "nbformat_minor": 0,
  "metadata": {
    "colab": {
      "name": "AI ML Lab 3 (Part 2).ipynb",
      "provenance": [],
      "collapsed_sections": [],
      "authorship_tag": "ABX9TyP71NlZEGYlcETjH+IHvKpx"
    },
    "kernelspec": {
      "name": "python3",
      "display_name": "Python 3"
    }
  },
  "cells": [
    {
      "cell_type": "code",
      "metadata": {
        "id": "1a3Tbdtox-Cd",
        "colab_type": "code",
        "colab": {}
      },
      "source": [
        "import numpy as np"
      ],
      "execution_count": null,
      "outputs": []
    },
    {
      "cell_type": "code",
      "metadata": {
        "id": "a6O0b3q5DCuc",
        "colab_type": "code",
        "colab": {
          "base_uri": "https://localhost:8080/",
          "height": 185
        },
        "outputId": "5a12250a-66e5-4fbd-8380-e7680fdd1416"
      },
      "source": [
        "import random\n",
        "arr=np.random.randint(0,100,size=(10,10))\n",
        "arr"
      ],
      "execution_count": null,
      "outputs": [
        {
          "output_type": "execute_result",
          "data": {
            "text/plain": [
              "array([[17, 80, 69, 84, 35, 49, 43, 39, 28, 54],\n",
              "       [88, 77, 57, 30, 12, 93, 75, 59, 85, 47],\n",
              "       [87, 93, 22, 62, 23, 37,  1, 83, 60, 11],\n",
              "       [80, 99, 68, 74, 80, 53, 84, 17, 24, 77],\n",
              "       [83, 10, 19, 83, 50, 29, 14, 93, 98, 22],\n",
              "       [38, 53, 22, 26, 55, 34, 11,  5, 16,  2],\n",
              "       [81, 82, 27, 88, 95,  1, 78, 49, 48, 53],\n",
              "       [31,  4,  1, 65, 62, 62, 11, 59,  6, 13],\n",
              "       [ 5, 43, 85, 12, 62, 79,  3, 18, 22,  3],\n",
              "       [ 2, 27, 52, 70, 80, 15,  8, 53, 90, 86]])"
            ]
          },
          "metadata": {
            "tags": []
          },
          "execution_count": 2
        }
      ]
    },
    {
      "cell_type": "code",
      "metadata": {
        "id": "9gyQDETCDeNT",
        "colab_type": "code",
        "colab": {
          "base_uri": "https://localhost:8080/",
          "height": 353
        },
        "outputId": "bbc3a611-de22-450b-904c-d8cfd6abe169"
      },
      "source": [
        "#Inverse of matrix\n",
        "np.linalg.inv(arr)"
      ],
      "execution_count": null,
      "outputs": [
        {
          "output_type": "execute_result",
          "data": {
            "text/plain": [
              "array([[-0.01074551, -0.00589335,  0.00512702,  0.01929573,  0.00963207,\n",
              "        -0.00604959, -0.00927516, -0.00330958,  0.00081719, -0.00409969],\n",
              "       [ 0.00354163,  0.00299555,  0.00665872, -0.00816324, -0.01108537,\n",
              "         0.00884762,  0.00458576, -0.00090862, -0.00295   ,  0.00264052],\n",
              "       [-0.00023587, -0.00823372,  0.00183397,  0.01054853,  0.00940044,\n",
              "        -0.01992675, -0.00092395, -0.00932307,  0.01540742, -0.00553137],\n",
              "       [ 0.01833028, -0.00500585, -0.00876991, -0.000967  ,  0.01270854,\n",
              "         0.01730732, -0.00767161, -0.00195167, -0.01024466, -0.00505969],\n",
              "       [-0.00824113, -0.00135854, -0.00067878, -0.00231715, -0.00441664,\n",
              "         0.00248166,  0.00766535,  0.00393079,  0.00526178,  0.00364899],\n",
              "       [ 0.0030875 ,  0.00688859, -0.00445413, -0.00176595, -0.00187383,\n",
              "         0.01429573, -0.00904548,  0.00779477, -0.00578938,  0.00119261],\n",
              "       [ 0.00540626,  0.0085423 , -0.00993227, -0.01147541, -0.00235279,\n",
              "        -0.00368247,  0.01544064,  0.0008448 ,  0.00158109, -0.00552927],\n",
              "       [-0.00875388,  0.00054329,  0.01299766, -0.00453472, -0.01037232,\n",
              "        -0.03265601,  0.01374469,  0.00825252,  0.01279562,  0.00084579],\n",
              "       [ 0.00640341,  0.00761762, -0.0088669 , -0.01271449,  0.00518389,\n",
              "         0.0221917 , -0.00026298, -0.00696156, -0.00699352,  0.00395034],\n",
              "       [-0.01032106, -0.00078947,  0.00742099,  0.01615455, -0.00715042,\n",
              "        -0.01223374, -0.00960557,  0.00469282, -0.00466913,  0.01061376]])"
            ]
          },
          "metadata": {
            "tags": []
          },
          "execution_count": 3
        }
      ]
    },
    {
      "cell_type": "code",
      "metadata": {
        "id": "BE3aDbt6Epx3",
        "colab_type": "code",
        "colab": {
          "base_uri": "https://localhost:8080/",
          "height": 353
        },
        "outputId": "bfb1fa0c-b4d3-4cf5-b9ef-166df3e59f29"
      },
      "source": [
        "#A*ATranspose\n",
        "(arr@arr.T)"
      ],
      "execution_count": null,
      "outputs": [
        {
          "output_type": "execute_result",
          "data": {
            "text/plain": [
              "array([[29202, 29530, 23817, 34690, 21826, 13403, 30037, 15228, 18048,\n",
              "        24772],\n",
              "       [29530, 45155, 32237, 39610, 30845, 15855, 34166, 16980, 20345,\n",
              "        25093],\n",
              "       [23817, 32237, 33055, 29834, 29793, 14262, 30553, 16252, 14247,\n",
              "        21317],\n",
              "       [34690, 39610, 29834, 49360, 27404, 19456, 43217, 19072, 21789,\n",
              "        29099],\n",
              "       [21826, 30845, 29793, 27404, 36513, 12227, 31658, 19440, 12785,\n",
              "        27422],\n",
              "       [13403, 15855, 14262, 19456, 12227, 10000, 17542,  9158, 11228,\n",
              "        11346],\n",
              "       [30037, 34166, 30553, 43217, 31658, 17542, 44382, 19264, 15582,\n",
              "        29654],\n",
              "       [15228, 16980, 16252, 19072, 19440,  9158, 19264, 16698, 11200,\n",
              "        15535],\n",
              "       [18048, 20345, 14247, 21789, 12785, 11228, 15582, 11200, 20154,\n",
              "        15792],\n",
              "       [24772, 25093, 21317, 29099, 27422, 11346, 29654, 15535, 15792,\n",
              "        33331]])"
            ]
          },
          "metadata": {
            "tags": []
          },
          "execution_count": 4
        }
      ]
    },
    {
      "cell_type": "code",
      "metadata": {
        "id": "wR1OqzF6YEps",
        "colab_type": "code",
        "colab": {
          "base_uri": "https://localhost:8080/",
          "height": 790
        },
        "outputId": "af19673c-1ce2-4bb2-a62b-43fa1c451426"
      },
      "source": [
        "#Decomposition of matrix into eigen vales and vectors\n",
        "val,vec=np.linalg.eig(arr)\n",
        "print(\"Eigenvalues:\",val)\n",
        "print()\n",
        "print(\"Eigenvectors:\",vec)"
      ],
      "execution_count": null,
      "outputs": [
        {
          "output_type": "stream",
          "text": [
            "Eigenvalues: [479.13552486 +0.j         -84.0247761 +30.45178446j\n",
            " -84.0247761 -30.45178446j -43.86292819 +0.j\n",
            "  56.10812039+52.92479565j  56.10812039-52.92479565j\n",
            "  12.24601041+33.87701852j  12.24601041-33.87701852j\n",
            "  57.53434696 +6.50817151j  57.53434696 -6.50817151j]\n",
            "\n",
            "Eigenvectors: [[ 0.33374236+0.j         -0.07966847+0.09393114j -0.07966847-0.09393114j\n",
            "  -0.52094515+0.j         -0.02727278-0.21261628j -0.02727278+0.21261628j\n",
            "   0.23367612+0.00185309j  0.23367612-0.00185309j -0.12773969+0.02892349j\n",
            "  -0.12773969-0.02892349j]\n",
            " [ 0.37813654+0.j          0.38446759+0.21221213j  0.38446759-0.21221213j\n",
            "   0.28734606+0.j          0.11011511+0.03481264j  0.11011511-0.03481264j\n",
            "  -0.07818651+0.10401112j -0.07818651-0.10401112j -0.20670069-0.05023797j\n",
            "  -0.20670069+0.05023797j]\n",
            " [ 0.29811934+0.j          0.15188027-0.28756199j  0.15188027+0.28756199j\n",
            "  -0.33286192+0.j         -0.10253346+0.08140956j -0.10253346-0.08140956j\n",
            "   0.52043665+0.j          0.52043665-0.j         -0.17360047-0.02040946j\n",
            "  -0.17360047+0.02040946j]\n",
            " [ 0.4516675 +0.j         -0.30039773+0.01952406j -0.30039773-0.01952406j\n",
            "   0.53289323+0.j         -0.04729341-0.40098955j -0.04729341+0.40098955j\n",
            "  -0.00939171-0.13374803j -0.00939171+0.13374803j -0.03420821+0.05098653j\n",
            "  -0.03420821-0.05098653j]\n",
            " [ 0.29879648+0.j          0.51661539+0.j          0.51661539-0.j\n",
            "  -0.19386111+0.j         -0.09052625+0.19824191j -0.09052625-0.19824191j\n",
            "  -0.07383006-0.12556301j -0.07383006+0.12556301j  0.24165067+0.00255162j\n",
            "   0.24165067-0.00255162j]\n",
            " [ 0.17217001+0.j         -0.2451538 -0.13998084j -0.2451538 +0.13998084j\n",
            "   0.05175687+0.j         -0.01815502+0.06393842j -0.01815502-0.06393842j\n",
            "  -0.30617636-0.07458676j -0.30617636+0.07458676j -0.16045127-0.01506542j\n",
            "  -0.16045127+0.01506542j]\n",
            " [ 0.41962549+0.j         -0.17789779-0.19673952j -0.17789779+0.19673952j\n",
            "   0.02122746+0.j         -0.18937637-0.20753829j -0.18937637+0.20753829j\n",
            "  -0.03177653-0.09591984j -0.03177653+0.09591984j  0.56638319-0.01391489j\n",
            "   0.56638319+0.01391489j]\n",
            " [ 0.19104941+0.j          0.04412603+0.0480657j   0.04412603-0.0480657j\n",
            "  -0.08698345+0.j         -0.29967957+0.08752677j -0.29967957-0.08752677j\n",
            "   0.07688841+0.49460207j  0.07688841-0.49460207j  0.57742318+0.j\n",
            "   0.57742318-0.j        ]\n",
            " [ 0.18898263+0.j         -0.39800554+0.12562806j -0.39800554-0.12562806j\n",
            "   0.34106033+0.j          0.14140801+0.3914848j   0.14140801-0.3914848j\n",
            "  -0.14746112-0.36787655j -0.14746112+0.36787655j -0.31905149-0.05349259j\n",
            "  -0.31905149+0.05349259j]\n",
            " [ 0.29245241+0.j          0.00348566-0.01414667j  0.00348566+0.01414667j\n",
            "  -0.29440849+0.j          0.59914093+0.j          0.59914093-0.j\n",
            "  -0.18438199+0.25937885j -0.18438199-0.25937885j -0.23174644+0.07834252j\n",
            "  -0.23174644-0.07834252j]]\n"
          ],
          "name": "stdout"
        }
      ]
    },
    {
      "cell_type": "code",
      "metadata": {
        "id": "4AXrIBmBYpz-",
        "colab_type": "code",
        "colab": {}
      },
      "source": [
        "#Jacobian matrix\n"
      ],
      "execution_count": null,
      "outputs": []
    },
    {
      "cell_type": "code",
      "metadata": {
        "id": "TxcZn2owExG-",
        "colab_type": "code",
        "colab": {
          "base_uri": "https://localhost:8080/",
          "height": 34
        },
        "outputId": "2fe63d28-5134-4be7-aab9-d1a8359beb1c"
      },
      "source": [
        "!pip install numdifftools\n",
        "import numdifftools as nd\n",
        "def func(x,y):\n",
        "  return (x**2+y**2)\n",
        "xdata=np.array([1,2,3])\n",
        "ydata=np.array([2,2,2])\n",
        "\n"
      ],
      "execution_count": null,
      "outputs": [
        {
          "output_type": "stream",
          "text": [
            "Requirement already satisfied: numdifftools in /usr/local/lib/python3.6/dist-packages (0.9.39)\n"
          ],
          "name": "stdout"
        }
      ]
    },
    {
      "cell_type": "code",
      "metadata": {
        "id": "oW5btRYIcAXO",
        "colab_type": "code",
        "colab": {
          "base_uri": "https://localhost:8080/",
          "height": 34
        },
        "outputId": "a6357ae6-940e-4e92-f2b9-37ef935190c5"
      },
      "source": [
        "J= nd.Jacobian(func(xdata,ydata))\n",
        "J.fun"
      ],
      "execution_count": null,
      "outputs": [
        {
          "output_type": "execute_result",
          "data": {
            "text/plain": [
              "array([ 5,  8, 13])"
            ]
          },
          "metadata": {
            "tags": []
          },
          "execution_count": 8
        }
      ]
    },
    {
      "cell_type": "code",
      "metadata": {
        "id": "qLCHcgHpccI3",
        "colab_type": "code",
        "colab": {
          "base_uri": "https://localhost:8080/",
          "height": 34
        },
        "outputId": "405abbcf-83a8-40c6-e42d-ff2f620d0fd9"
      },
      "source": [
        "H=nd.Hessian(func(xdata,ydata))\n",
        "H.fun"
      ],
      "execution_count": null,
      "outputs": [
        {
          "output_type": "execute_result",
          "data": {
            "text/plain": [
              "array([ 5,  8, 13])"
            ]
          },
          "metadata": {
            "tags": []
          },
          "execution_count": 9
        }
      ]
    },
    {
      "cell_type": "code",
      "metadata": {
        "id": "Df1um4f2g1hR",
        "colab_type": "code",
        "colab": {
          "base_uri": "https://localhost:8080/",
          "height": 202
        },
        "outputId": "2368c6ad-2da7-44fc-add5-2beeae912a5e"
      },
      "source": [
        "#Part 2.2\n",
        "!wget https://raw.githubusercontent.com/DeepConnectAI/challenge-week-3/master/data/diabetes_data.csv"
      ],
      "execution_count": null,
      "outputs": [
        {
          "output_type": "stream",
          "text": [
            "--2020-08-29 13:37:59--  https://raw.githubusercontent.com/DeepConnectAI/challenge-week-3/master/data/diabetes_data.csv\n",
            "Resolving raw.githubusercontent.com (raw.githubusercontent.com)... 151.101.0.133, 151.101.64.133, 151.101.128.133, ...\n",
            "Connecting to raw.githubusercontent.com (raw.githubusercontent.com)|151.101.0.133|:443... connected.\n",
            "HTTP request sent, awaiting response... 200 OK\n",
            "Length: 34161 (33K) [text/plain]\n",
            "Saving to: ‘diabetes_data.csv.1’\n",
            "\n",
            "\rdiabetes_data.csv.1   0%[                    ]       0  --.-KB/s               \rdiabetes_data.csv.1 100%[===================>]  33.36K  --.-KB/s    in 0.01s   \n",
            "\n",
            "2020-08-29 13:37:59 (3.03 MB/s) - ‘diabetes_data.csv.1’ saved [34161/34161]\n",
            "\n"
          ],
          "name": "stdout"
        }
      ]
    },
    {
      "cell_type": "code",
      "metadata": {
        "id": "uoljgYwTohrM",
        "colab_type": "code",
        "colab": {}
      },
      "source": [
        "import numpy as np\n",
        "import pandas as pd\n",
        "from sklearn.model_selection import train_test_split\n",
        "from sklearn.linear_model import LogisticRegression\n",
        "from sklearn.metrics import accuracy_score"
      ],
      "execution_count": null,
      "outputs": []
    },
    {
      "cell_type": "code",
      "metadata": {
        "id": "FnjRtwi_plgS",
        "colab_type": "code",
        "colab": {
          "base_uri": "https://localhost:8080/",
          "height": 286
        },
        "outputId": "a145c624-63e4-4fc3-c481-d55e296316ce"
      },
      "source": [
        "df=pd.read_csv('/content/diabetes_data.csv')\n",
        "df.head(),df.tail()"
      ],
      "execution_count": null,
      "outputs": [
        {
          "output_type": "execute_result",
          "data": {
            "text/plain": [
              "(   Age Gender Polyuria Polydipsia  ... muscle stiffness Alopecia Obesity     class\n",
              " 0   40   Male       No        Yes  ...              Yes      Yes     Yes  Positive\n",
              " 1   58   Male       No         No  ...               No      Yes      No  Positive\n",
              " 2   41   Male      Yes         No  ...              Yes      Yes      No  Positive\n",
              " 3   45   Male       No         No  ...               No       No      No  Positive\n",
              " 4   60   Male      Yes        Yes  ...              Yes      Yes     Yes  Positive\n",
              " \n",
              " [5 rows x 17 columns],\n",
              "      Age  Gender Polyuria  ... Alopecia Obesity     class\n",
              " 515   39  Female      Yes  ...       No      No  Positive\n",
              " 516   48  Female      Yes  ...       No      No  Positive\n",
              " 517   58  Female      Yes  ...       No     Yes  Positive\n",
              " 518   32  Female       No  ...      Yes      No  Negative\n",
              " 519   42    Male       No  ...       No      No  Negative\n",
              " \n",
              " [5 rows x 17 columns])"
            ]
          },
          "metadata": {
            "tags": []
          },
          "execution_count": 12
        }
      ]
    },
    {
      "cell_type": "code",
      "metadata": {
        "id": "M_dX2mnj-7Ea",
        "colab_type": "code",
        "colab": {
          "base_uri": "https://localhost:8080/",
          "height": 101
        },
        "outputId": "c8189243-3534-4d97-ac85-894c77925e39"
      },
      "source": [
        "df.columns"
      ],
      "execution_count": null,
      "outputs": [
        {
          "output_type": "execute_result",
          "data": {
            "text/plain": [
              "Index(['Age', 'Gender', 'Polyuria', 'Polydipsia', 'sudden weight loss',\n",
              "       'weakness', 'Polyphagia', 'Genital thrush', 'visual blurring',\n",
              "       'Itching', 'Irritability', 'delayed healing', 'partial paresis',\n",
              "       'muscle stiffness', 'Alopecia', 'Obesity', 'class'],\n",
              "      dtype='object')"
            ]
          },
          "metadata": {
            "tags": []
          },
          "execution_count": 13
        }
      ]
    },
    {
      "cell_type": "code",
      "metadata": {
        "id": "yAlAeYmUpu5N",
        "colab_type": "code",
        "colab": {
          "base_uri": "https://localhost:8080/",
          "height": 212
        },
        "outputId": "654473ce-d28f-4608-8501-e9c989b98ea3"
      },
      "source": [
        "from sklearn.preprocessing import LabelEncoder \n",
        "le=LabelEncoder()\n",
        "cat=[ 'Gender', 'Polyuria', 'Polydipsia', 'sudden weight loss',\n",
        "       'weakness', 'Polyphagia', 'Genital thrush', 'visual blurring',\n",
        "       'Itching', 'Irritability', 'delayed healing', 'partial paresis',\n",
        "       'muscle stiffness', 'Alopecia', 'Obesity', 'class']\n",
        "\n",
        "for i in cat:\n",
        "  le.fit(df[i])\n",
        "  df[i]=le.transform(df[i])\n",
        "\n",
        "df.head()"
      ],
      "execution_count": null,
      "outputs": [
        {
          "output_type": "execute_result",
          "data": {
            "text/html": [
              "<div>\n",
              "<style scoped>\n",
              "    .dataframe tbody tr th:only-of-type {\n",
              "        vertical-align: middle;\n",
              "    }\n",
              "\n",
              "    .dataframe tbody tr th {\n",
              "        vertical-align: top;\n",
              "    }\n",
              "\n",
              "    .dataframe thead th {\n",
              "        text-align: right;\n",
              "    }\n",
              "</style>\n",
              "<table border=\"1\" class=\"dataframe\">\n",
              "  <thead>\n",
              "    <tr style=\"text-align: right;\">\n",
              "      <th></th>\n",
              "      <th>Age</th>\n",
              "      <th>Gender</th>\n",
              "      <th>Polyuria</th>\n",
              "      <th>Polydipsia</th>\n",
              "      <th>sudden weight loss</th>\n",
              "      <th>weakness</th>\n",
              "      <th>Polyphagia</th>\n",
              "      <th>Genital thrush</th>\n",
              "      <th>visual blurring</th>\n",
              "      <th>Itching</th>\n",
              "      <th>Irritability</th>\n",
              "      <th>delayed healing</th>\n",
              "      <th>partial paresis</th>\n",
              "      <th>muscle stiffness</th>\n",
              "      <th>Alopecia</th>\n",
              "      <th>Obesity</th>\n",
              "      <th>class</th>\n",
              "    </tr>\n",
              "  </thead>\n",
              "  <tbody>\n",
              "    <tr>\n",
              "      <th>0</th>\n",
              "      <td>40</td>\n",
              "      <td>1</td>\n",
              "      <td>0</td>\n",
              "      <td>1</td>\n",
              "      <td>0</td>\n",
              "      <td>1</td>\n",
              "      <td>0</td>\n",
              "      <td>0</td>\n",
              "      <td>0</td>\n",
              "      <td>1</td>\n",
              "      <td>0</td>\n",
              "      <td>1</td>\n",
              "      <td>0</td>\n",
              "      <td>1</td>\n",
              "      <td>1</td>\n",
              "      <td>1</td>\n",
              "      <td>1</td>\n",
              "    </tr>\n",
              "    <tr>\n",
              "      <th>1</th>\n",
              "      <td>58</td>\n",
              "      <td>1</td>\n",
              "      <td>0</td>\n",
              "      <td>0</td>\n",
              "      <td>0</td>\n",
              "      <td>1</td>\n",
              "      <td>0</td>\n",
              "      <td>0</td>\n",
              "      <td>1</td>\n",
              "      <td>0</td>\n",
              "      <td>0</td>\n",
              "      <td>0</td>\n",
              "      <td>1</td>\n",
              "      <td>0</td>\n",
              "      <td>1</td>\n",
              "      <td>0</td>\n",
              "      <td>1</td>\n",
              "    </tr>\n",
              "    <tr>\n",
              "      <th>2</th>\n",
              "      <td>41</td>\n",
              "      <td>1</td>\n",
              "      <td>1</td>\n",
              "      <td>0</td>\n",
              "      <td>0</td>\n",
              "      <td>1</td>\n",
              "      <td>1</td>\n",
              "      <td>0</td>\n",
              "      <td>0</td>\n",
              "      <td>1</td>\n",
              "      <td>0</td>\n",
              "      <td>1</td>\n",
              "      <td>0</td>\n",
              "      <td>1</td>\n",
              "      <td>1</td>\n",
              "      <td>0</td>\n",
              "      <td>1</td>\n",
              "    </tr>\n",
              "    <tr>\n",
              "      <th>3</th>\n",
              "      <td>45</td>\n",
              "      <td>1</td>\n",
              "      <td>0</td>\n",
              "      <td>0</td>\n",
              "      <td>1</td>\n",
              "      <td>1</td>\n",
              "      <td>1</td>\n",
              "      <td>1</td>\n",
              "      <td>0</td>\n",
              "      <td>1</td>\n",
              "      <td>0</td>\n",
              "      <td>1</td>\n",
              "      <td>0</td>\n",
              "      <td>0</td>\n",
              "      <td>0</td>\n",
              "      <td>0</td>\n",
              "      <td>1</td>\n",
              "    </tr>\n",
              "    <tr>\n",
              "      <th>4</th>\n",
              "      <td>60</td>\n",
              "      <td>1</td>\n",
              "      <td>1</td>\n",
              "      <td>1</td>\n",
              "      <td>1</td>\n",
              "      <td>1</td>\n",
              "      <td>1</td>\n",
              "      <td>0</td>\n",
              "      <td>1</td>\n",
              "      <td>1</td>\n",
              "      <td>1</td>\n",
              "      <td>1</td>\n",
              "      <td>1</td>\n",
              "      <td>1</td>\n",
              "      <td>1</td>\n",
              "      <td>1</td>\n",
              "      <td>1</td>\n",
              "    </tr>\n",
              "  </tbody>\n",
              "</table>\n",
              "</div>"
            ],
            "text/plain": [
              "   Age  Gender  Polyuria  ...  Alopecia  Obesity  class\n",
              "0   40       1         0  ...         1        1      1\n",
              "1   58       1         0  ...         1        0      1\n",
              "2   41       1         1  ...         1        0      1\n",
              "3   45       1         0  ...         0        0      1\n",
              "4   60       1         1  ...         1        1      1\n",
              "\n",
              "[5 rows x 17 columns]"
            ]
          },
          "metadata": {
            "tags": []
          },
          "execution_count": 14
        }
      ]
    },
    {
      "cell_type": "code",
      "metadata": {
        "id": "hlyHNdQZ-CeA",
        "colab_type": "code",
        "colab": {
          "base_uri": "https://localhost:8080/",
          "height": 435
        },
        "outputId": "4ce9b1b6-c064-486f-9f4d-df239304c92b"
      },
      "source": [
        "#Positive class=1\n",
        "#Negative class=0\n",
        "df['Age']= (df['Age']- df['Age'].min())/(df['Age'].max()-df['Age'].min())\n",
        "df.insert(0,\"bias\",1)\n",
        "df"
      ],
      "execution_count": null,
      "outputs": [
        {
          "output_type": "execute_result",
          "data": {
            "text/html": [
              "<div>\n",
              "<style scoped>\n",
              "    .dataframe tbody tr th:only-of-type {\n",
              "        vertical-align: middle;\n",
              "    }\n",
              "\n",
              "    .dataframe tbody tr th {\n",
              "        vertical-align: top;\n",
              "    }\n",
              "\n",
              "    .dataframe thead th {\n",
              "        text-align: right;\n",
              "    }\n",
              "</style>\n",
              "<table border=\"1\" class=\"dataframe\">\n",
              "  <thead>\n",
              "    <tr style=\"text-align: right;\">\n",
              "      <th></th>\n",
              "      <th>bias</th>\n",
              "      <th>Age</th>\n",
              "      <th>Gender</th>\n",
              "      <th>Polyuria</th>\n",
              "      <th>Polydipsia</th>\n",
              "      <th>sudden weight loss</th>\n",
              "      <th>weakness</th>\n",
              "      <th>Polyphagia</th>\n",
              "      <th>Genital thrush</th>\n",
              "      <th>visual blurring</th>\n",
              "      <th>Itching</th>\n",
              "      <th>Irritability</th>\n",
              "      <th>delayed healing</th>\n",
              "      <th>partial paresis</th>\n",
              "      <th>muscle stiffness</th>\n",
              "      <th>Alopecia</th>\n",
              "      <th>Obesity</th>\n",
              "      <th>class</th>\n",
              "    </tr>\n",
              "  </thead>\n",
              "  <tbody>\n",
              "    <tr>\n",
              "      <th>0</th>\n",
              "      <td>1</td>\n",
              "      <td>0.324324</td>\n",
              "      <td>1</td>\n",
              "      <td>0</td>\n",
              "      <td>1</td>\n",
              "      <td>0</td>\n",
              "      <td>1</td>\n",
              "      <td>0</td>\n",
              "      <td>0</td>\n",
              "      <td>0</td>\n",
              "      <td>1</td>\n",
              "      <td>0</td>\n",
              "      <td>1</td>\n",
              "      <td>0</td>\n",
              "      <td>1</td>\n",
              "      <td>1</td>\n",
              "      <td>1</td>\n",
              "      <td>1</td>\n",
              "    </tr>\n",
              "    <tr>\n",
              "      <th>1</th>\n",
              "      <td>1</td>\n",
              "      <td>0.567568</td>\n",
              "      <td>1</td>\n",
              "      <td>0</td>\n",
              "      <td>0</td>\n",
              "      <td>0</td>\n",
              "      <td>1</td>\n",
              "      <td>0</td>\n",
              "      <td>0</td>\n",
              "      <td>1</td>\n",
              "      <td>0</td>\n",
              "      <td>0</td>\n",
              "      <td>0</td>\n",
              "      <td>1</td>\n",
              "      <td>0</td>\n",
              "      <td>1</td>\n",
              "      <td>0</td>\n",
              "      <td>1</td>\n",
              "    </tr>\n",
              "    <tr>\n",
              "      <th>2</th>\n",
              "      <td>1</td>\n",
              "      <td>0.337838</td>\n",
              "      <td>1</td>\n",
              "      <td>1</td>\n",
              "      <td>0</td>\n",
              "      <td>0</td>\n",
              "      <td>1</td>\n",
              "      <td>1</td>\n",
              "      <td>0</td>\n",
              "      <td>0</td>\n",
              "      <td>1</td>\n",
              "      <td>0</td>\n",
              "      <td>1</td>\n",
              "      <td>0</td>\n",
              "      <td>1</td>\n",
              "      <td>1</td>\n",
              "      <td>0</td>\n",
              "      <td>1</td>\n",
              "    </tr>\n",
              "    <tr>\n",
              "      <th>3</th>\n",
              "      <td>1</td>\n",
              "      <td>0.391892</td>\n",
              "      <td>1</td>\n",
              "      <td>0</td>\n",
              "      <td>0</td>\n",
              "      <td>1</td>\n",
              "      <td>1</td>\n",
              "      <td>1</td>\n",
              "      <td>1</td>\n",
              "      <td>0</td>\n",
              "      <td>1</td>\n",
              "      <td>0</td>\n",
              "      <td>1</td>\n",
              "      <td>0</td>\n",
              "      <td>0</td>\n",
              "      <td>0</td>\n",
              "      <td>0</td>\n",
              "      <td>1</td>\n",
              "    </tr>\n",
              "    <tr>\n",
              "      <th>4</th>\n",
              "      <td>1</td>\n",
              "      <td>0.594595</td>\n",
              "      <td>1</td>\n",
              "      <td>1</td>\n",
              "      <td>1</td>\n",
              "      <td>1</td>\n",
              "      <td>1</td>\n",
              "      <td>1</td>\n",
              "      <td>0</td>\n",
              "      <td>1</td>\n",
              "      <td>1</td>\n",
              "      <td>1</td>\n",
              "      <td>1</td>\n",
              "      <td>1</td>\n",
              "      <td>1</td>\n",
              "      <td>1</td>\n",
              "      <td>1</td>\n",
              "      <td>1</td>\n",
              "    </tr>\n",
              "    <tr>\n",
              "      <th>...</th>\n",
              "      <td>...</td>\n",
              "      <td>...</td>\n",
              "      <td>...</td>\n",
              "      <td>...</td>\n",
              "      <td>...</td>\n",
              "      <td>...</td>\n",
              "      <td>...</td>\n",
              "      <td>...</td>\n",
              "      <td>...</td>\n",
              "      <td>...</td>\n",
              "      <td>...</td>\n",
              "      <td>...</td>\n",
              "      <td>...</td>\n",
              "      <td>...</td>\n",
              "      <td>...</td>\n",
              "      <td>...</td>\n",
              "      <td>...</td>\n",
              "      <td>...</td>\n",
              "    </tr>\n",
              "    <tr>\n",
              "      <th>515</th>\n",
              "      <td>1</td>\n",
              "      <td>0.310811</td>\n",
              "      <td>0</td>\n",
              "      <td>1</td>\n",
              "      <td>1</td>\n",
              "      <td>1</td>\n",
              "      <td>0</td>\n",
              "      <td>1</td>\n",
              "      <td>0</td>\n",
              "      <td>0</td>\n",
              "      <td>1</td>\n",
              "      <td>0</td>\n",
              "      <td>1</td>\n",
              "      <td>1</td>\n",
              "      <td>0</td>\n",
              "      <td>0</td>\n",
              "      <td>0</td>\n",
              "      <td>1</td>\n",
              "    </tr>\n",
              "    <tr>\n",
              "      <th>516</th>\n",
              "      <td>1</td>\n",
              "      <td>0.432432</td>\n",
              "      <td>0</td>\n",
              "      <td>1</td>\n",
              "      <td>1</td>\n",
              "      <td>1</td>\n",
              "      <td>1</td>\n",
              "      <td>1</td>\n",
              "      <td>0</td>\n",
              "      <td>0</td>\n",
              "      <td>1</td>\n",
              "      <td>1</td>\n",
              "      <td>1</td>\n",
              "      <td>1</td>\n",
              "      <td>0</td>\n",
              "      <td>0</td>\n",
              "      <td>0</td>\n",
              "      <td>1</td>\n",
              "    </tr>\n",
              "    <tr>\n",
              "      <th>517</th>\n",
              "      <td>1</td>\n",
              "      <td>0.567568</td>\n",
              "      <td>0</td>\n",
              "      <td>1</td>\n",
              "      <td>1</td>\n",
              "      <td>1</td>\n",
              "      <td>1</td>\n",
              "      <td>1</td>\n",
              "      <td>0</td>\n",
              "      <td>1</td>\n",
              "      <td>0</td>\n",
              "      <td>0</td>\n",
              "      <td>0</td>\n",
              "      <td>1</td>\n",
              "      <td>1</td>\n",
              "      <td>0</td>\n",
              "      <td>1</td>\n",
              "      <td>1</td>\n",
              "    </tr>\n",
              "    <tr>\n",
              "      <th>518</th>\n",
              "      <td>1</td>\n",
              "      <td>0.216216</td>\n",
              "      <td>0</td>\n",
              "      <td>0</td>\n",
              "      <td>0</td>\n",
              "      <td>0</td>\n",
              "      <td>1</td>\n",
              "      <td>0</td>\n",
              "      <td>0</td>\n",
              "      <td>1</td>\n",
              "      <td>1</td>\n",
              "      <td>0</td>\n",
              "      <td>1</td>\n",
              "      <td>0</td>\n",
              "      <td>0</td>\n",
              "      <td>1</td>\n",
              "      <td>0</td>\n",
              "      <td>0</td>\n",
              "    </tr>\n",
              "    <tr>\n",
              "      <th>519</th>\n",
              "      <td>1</td>\n",
              "      <td>0.351351</td>\n",
              "      <td>1</td>\n",
              "      <td>0</td>\n",
              "      <td>0</td>\n",
              "      <td>0</td>\n",
              "      <td>0</td>\n",
              "      <td>0</td>\n",
              "      <td>0</td>\n",
              "      <td>0</td>\n",
              "      <td>0</td>\n",
              "      <td>0</td>\n",
              "      <td>0</td>\n",
              "      <td>0</td>\n",
              "      <td>0</td>\n",
              "      <td>0</td>\n",
              "      <td>0</td>\n",
              "      <td>0</td>\n",
              "    </tr>\n",
              "  </tbody>\n",
              "</table>\n",
              "<p>520 rows × 18 columns</p>\n",
              "</div>"
            ],
            "text/plain": [
              "     bias       Age  Gender  ...  Alopecia  Obesity  class\n",
              "0       1  0.324324       1  ...         1        1      1\n",
              "1       1  0.567568       1  ...         1        0      1\n",
              "2       1  0.337838       1  ...         1        0      1\n",
              "3       1  0.391892       1  ...         0        0      1\n",
              "4       1  0.594595       1  ...         1        1      1\n",
              "..    ...       ...     ...  ...       ...      ...    ...\n",
              "515     1  0.310811       0  ...         0        0      1\n",
              "516     1  0.432432       0  ...         0        0      1\n",
              "517     1  0.567568       0  ...         0        1      1\n",
              "518     1  0.216216       0  ...         1        0      0\n",
              "519     1  0.351351       1  ...         0        0      0\n",
              "\n",
              "[520 rows x 18 columns]"
            ]
          },
          "metadata": {
            "tags": []
          },
          "execution_count": 15
        }
      ]
    },
    {
      "cell_type": "code",
      "metadata": {
        "id": "SxQVxno3dXcI",
        "colab_type": "code",
        "colab": {
          "base_uri": "https://localhost:8080/",
          "height": 437
        },
        "outputId": "ea0098e7-cbe5-4c4a-b5ca-b254cfb9b8b9"
      },
      "source": [
        "X=df.drop('class',axis=1)\n",
        "y=df['class']\n",
        "X,y"
      ],
      "execution_count": null,
      "outputs": [
        {
          "output_type": "execute_result",
          "data": {
            "text/plain": [
              "(     bias       Age  Gender  ...  muscle stiffness  Alopecia  Obesity\n",
              " 0       1  0.324324       1  ...                 1         1        1\n",
              " 1       1  0.567568       1  ...                 0         1        0\n",
              " 2       1  0.337838       1  ...                 1         1        0\n",
              " 3       1  0.391892       1  ...                 0         0        0\n",
              " 4       1  0.594595       1  ...                 1         1        1\n",
              " ..    ...       ...     ...  ...               ...       ...      ...\n",
              " 515     1  0.310811       0  ...                 0         0        0\n",
              " 516     1  0.432432       0  ...                 0         0        0\n",
              " 517     1  0.567568       0  ...                 1         0        1\n",
              " 518     1  0.216216       0  ...                 0         1        0\n",
              " 519     1  0.351351       1  ...                 0         0        0\n",
              " \n",
              " [520 rows x 17 columns], 0      1\n",
              " 1      1\n",
              " 2      1\n",
              " 3      1\n",
              " 4      1\n",
              "       ..\n",
              " 515    1\n",
              " 516    1\n",
              " 517    1\n",
              " 518    0\n",
              " 519    0\n",
              " Name: class, Length: 520, dtype: int64)"
            ]
          },
          "metadata": {
            "tags": []
          },
          "execution_count": 16
        }
      ]
    },
    {
      "cell_type": "code",
      "metadata": {
        "id": "c9Slo1LcjxdJ",
        "colab_type": "code",
        "colab": {}
      },
      "source": [
        "from sklearn.model_selection import train_test_split\n",
        "X_train, X_test, y_train, y_test = train_test_split(X,y,test_size=0.4)\n"
      ],
      "execution_count": null,
      "outputs": []
    },
    {
      "cell_type": "code",
      "metadata": {
        "id": "PPqzszB7kV_U",
        "colab_type": "code",
        "colab": {
          "base_uri": "https://localhost:8080/",
          "height": 50
        },
        "outputId": "012439da-9f6a-41c5-b65f-5894d407356c"
      },
      "source": [
        "X_train_shape = X_train.shape\n",
        "y_train_shape = y_train.shape\n",
        "X_test_shape  = X_test.shape\n",
        "y_test_shape  = y_test.shape\n",
        "\n",
        "print(f\"X_train: {X_train_shape} , y_train: {y_train_shape}\")\n",
        "print(f\"X_test: {X_test_shape} , y_test: {y_test_shape}\")"
      ],
      "execution_count": null,
      "outputs": [
        {
          "output_type": "stream",
          "text": [
            "X_train: (312, 17) , y_train: (312,)\n",
            "X_test: (208, 17) , y_test: (208,)\n"
          ],
          "name": "stdout"
        }
      ]
    },
    {
      "cell_type": "code",
      "metadata": {
        "id": "wjUnVOwkkXqK",
        "colab_type": "code",
        "colab": {}
      },
      "source": [
        "def predict(X, weights):\n",
        "    '''Predict class for X.\n",
        "    For the given dataset, predicted vector has only values 0/1\n",
        "    Args:\n",
        "        X : Numpy array (num_samples, num_features)\n",
        "        weights : Model weights for logistic regression\n",
        "    Returns:\n",
        "        Binary predictions : (num_samples,)\n",
        "    '''\n",
        "\n",
        "    ### START CODE HERE ###\n",
        "    #threshold=0.5\n",
        "    z = np.dot(X,weights)\n",
        "    logits = sigmoid(z)\n",
        "    #print(logits)\n",
        "    y_pred=logits.round()\n",
        "    # y_pred=np.zeros(len(X))\n",
        "\n",
        "    # for i in range(len(X)):\n",
        "    #   if logits[i]>0.5:\n",
        "    #     y_pred[i] = 1\n",
        "    #   else:\n",
        "    #     y_pred[i] = 0\n",
        "    ### END CODE HERE ###\n",
        "    \n",
        "    return y_pred\n",
        "#predict(np.array([[1,0,0,0],[5,6,7,8],[9,1,2,3]]),np.array([0.2,0.01,0.05,0.03]))"
      ],
      "execution_count": null,
      "outputs": []
    },
    {
      "cell_type": "code",
      "metadata": {
        "id": "E4jhsuW4ncg0",
        "colab_type": "code",
        "colab": {}
      },
      "source": [
        "def sigmoid(z):\n",
        "        '''Sigmoid function: f:R->(0,1)\n",
        "        Args:\n",
        "            z : A numpy array (num_samples,)\n",
        "        Returns:\n",
        "            A numpy array where sigmoid function applied to every element\n",
        "        '''\n",
        "        ### START CODE HERE\n",
        "        sig_z = 1/(1+np.exp(-z))\n",
        "        ### END CODE HERE\n",
        "        \n",
        "        assert (z.shape==sig_z.shape), 'Error in sigmoid implementation. Check carefully'\n",
        "        return sig_z"
      ],
      "execution_count": null,
      "outputs": []
    },
    {
      "cell_type": "code",
      "metadata": {
        "id": "Kqhjd85Cnf3l",
        "colab_type": "code",
        "colab": {}
      },
      "source": [
        "def cross_entropy_loss(y_true, y_pred):\n",
        "    '''Calculate cross entropy loss\n",
        "    Note: Cross entropy is defined for multiple classes/labels as well\n",
        "    but for this dataset we only need binary cross entropy loss\n",
        "    Args:\n",
        "        y_true : Numpy array of true values (0/1) of size (num_samples,)\n",
        "        y_pred : Numpy array of predicted values (probabilites) of size (num_samples,)\n",
        "    Returns:\n",
        "        Cross entropy loss: A scalar value\n",
        "    '''\n",
        "    # Fix 0 values in y_pred\n",
        "    y_pred = np.maximum(np.full(y_pred.shape, 1e-15), np.minimum(np.full(y_pred.shape, 1-(1e-15)), y_pred))\n",
        "    \n",
        "    ### START CODE HERE\n",
        "    # for i in range(len(y_true)):\n",
        "    #   if y_true[i] == 1:\n",
        "    #     ce_loss= -log(y_pred)\n",
        "    #   else:\n",
        "    #     ce_loss -log(1 - y_pred)\n",
        "    ce_loss= np.mean(-y_true*np.log(y_pred) - (1-y_true)*np.log(1-y_pred))\n",
        "    ### END CODE HERE\n",
        "    \n",
        "    return ce_loss\n",
        "#cross_entropy_loss(np.array([1,0,1,0]), np.array([0,0,1,0]))"
      ],
      "execution_count": null,
      "outputs": []
    },
    {
      "cell_type": "code",
      "metadata": {
        "id": "yyMulTFIfuOr",
        "colab_type": "code",
        "colab": {}
      },
      "source": [
        "def training_loss(weights):\n",
        " y_pred= sigmoid( ( np.dot(X,weights)))\n",
        " loss= cross_entropy_loss(y,y_pred)\n",
        " return loss"
      ],
      "execution_count": null,
      "outputs": []
    },
    {
      "cell_type": "code",
      "metadata": {
        "id": "xXd2EuWPnfz7",
        "colab_type": "code",
        "colab": {}
      },
      "source": [
        "def newton_optimization(X, y, max_iterations=25):\n",
        "    '''Implement netwon method for optimizing weights\n",
        "    Args:\n",
        "        X : Numpy array (num_samples, num_features)\n",
        "        max_iterations : Max iterations to update the weights\n",
        "    Returns:\n",
        "        Optimal weights (num_features,)\n",
        "    '''\n",
        "    num_samples = X.shape[0]\n",
        "    num_features = X.shape[1]\n",
        "    # Initialize random weights\n",
        "    weights = np.zeros(num_features,)\n",
        "    # Initialize losses\n",
        "    losses = []\n",
        "    \n",
        "    grad_fun=nd.Jacobian(training_loss)\n",
        "    hess_fun=nd.Hessian(training_loss)\n",
        "    # Newton Method\n",
        "    for i in range(max_iterations):\n",
        "        print(i, sep=\",\",end=',')\n",
        "        # Predict/Calculate probabilties using sigmoid function\n",
        "        z=np.dot(X,weights)\n",
        "        y_p = sigmoid(z)\n",
        "        \n",
        "        # Define gradient for J (cost function) i.e. cross entropy loss\n",
        "        #gradient = cross_entropy_loss(y, y_p)\n",
        "        #z=X@weights\n",
        "        #gradient= 1/num_samples * np.dot(X.T,(y_p-y))\n",
        "        gradient= grad_fun(weights)\n",
        "        # Define hessian matrix for cross entropy loss\n",
        "        #hessian = np.mean(y_p*(1-y_p).dot(X,X.T))\n",
        "\n",
        "        #print(X.T.shape , X.shape, np.diag(y_p*(1-y_p)).shape)\n",
        "        #hessian = 1/num_samples * X.T.dot(np.diag(y_p*(1-y_p))).dot(X) \n",
        "        \n",
        "\n",
        "        hessian= hess_fun(weights)\n",
        "        #print(hessian.shape)\n",
        "        # Update the model using hessian matrix and gradient computed\n",
        "        weights = weights - np.dot(np.linalg.pinv(hessian),gradient.T).reshape(num_features,)\n",
        "        \n",
        "        # Calculate cross entropy loss\n",
        "        loss = cross_entropy_loss(y, y_p)\n",
        "        # Append it\n",
        "        losses.append(loss)\n",
        "\n",
        "    return weights, losses\n"
      ],
      "execution_count": null,
      "outputs": []
    },
    {
      "cell_type": "code",
      "metadata": {
        "id": "LbvFPFvcnfxP",
        "colab_type": "code",
        "colab": {
          "base_uri": "https://localhost:8080/",
          "height": 34
        },
        "outputId": "075e928c-0bcb-4d9e-d929-a1b44df6302b"
      },
      "source": [
        "weights, losses = newton_optimization(X_train, y_train)"
      ],
      "execution_count": null,
      "outputs": [
        {
          "output_type": "stream",
          "text": [
            "0,1,2,3,4,5,6,7,8,9,10,11,12,13,14,15,16,17,18,19,20,21,22,23,24,"
          ],
          "name": "stdout"
        }
      ]
    },
    {
      "cell_type": "code",
      "metadata": {
        "id": "bNxMQ5N3nfub",
        "colab_type": "code",
        "colab": {
          "base_uri": "https://localhost:8080/",
          "height": 295
        },
        "outputId": "331f23be-ab92-40c6-c5c0-6de115e2ab4e"
      },
      "source": [
        "# Plot the loss curve\n",
        "import matplotlib.pyplot as plt\n",
        "\n",
        "plt.plot([i+1 for i in range(len(losses))], losses)\n",
        "plt.title(\"Loss curve\")\n",
        "plt.xlabel(\"Iteration num\")\n",
        "plt.ylabel(\"Cross entropy curve\")\n",
        "plt.show()"
      ],
      "execution_count": null,
      "outputs": [
        {
          "output_type": "display_data",
          "data": {
            "image/png": "[encoded data removed]",
            "text/plain": [
              "<Figure size 432x288 with 1 Axes>"
            ]
          },
          "metadata": {
            "tags": [],
            "needs_background": "light"
          }
        }
      ]
    },
    {
      "cell_type": "code",
      "metadata": {
        "id": "dV9WYXRNnfsO",
        "colab_type": "code",
        "colab": {
          "base_uri": "https://localhost:8080/",
          "height": 50
        },
        "outputId": "5fe8cc43-187b-49fc-c5eb-653dd8c7195a"
      },
      "source": [
        "our_model_test_acuracy = accuracy_score(y_test, predict(X_test, weights))\n",
        "\n",
        "print(f\"\\nAccuracy in testing set by our model: {our_model_test_acuracy}\")"
      ],
      "execution_count": null,
      "outputs": [
        {
          "output_type": "stream",
          "text": [
            "\n",
            "Accuracy in testing set by our model: 0.9326923076923077\n"
          ],
          "name": "stdout"
        }
      ]
    },
    {
      "cell_type": "code",
      "metadata": {
        "id": "Q7rjXU70jNhB",
        "colab_type": "code",
        "colab": {}
      },
      "source": [
        "#Scikit implementation\n",
        "# Initialize the model\n",
        "model = LogisticRegression(solver='newton-cg', verbose=1)"
      ],
      "execution_count": null,
      "outputs": []
    },
    {
      "cell_type": "code",
      "metadata": {
        "id": "4QxB5safjUt5",
        "colab_type": "code",
        "colab": {
          "base_uri": "https://localhost:8080/",
          "height": 134
        },
        "outputId": "8af54842-f7a1-48e2-c9bf-b58bb110688d"
      },
      "source": [
        "model.fit(X_train, y_train)"
      ],
      "execution_count": null,
      "outputs": [
        {
          "output_type": "stream",
          "text": [
            "[Parallel(n_jobs=1)]: Using backend SequentialBackend with 1 concurrent workers.\n",
            "[Parallel(n_jobs=1)]: Done   1 out of   1 | elapsed:    0.0s finished\n"
          ],
          "name": "stderr"
        },
        {
          "output_type": "execute_result",
          "data": {
            "text/plain": [
              "LogisticRegression(C=1.0, class_weight=None, dual=False, fit_intercept=True,\n",
              "                   intercept_scaling=1, l1_ratio=None, max_iter=100,\n",
              "                   multi_class='auto', n_jobs=None, penalty='l2',\n",
              "                   random_state=None, solver='newton-cg', tol=0.0001, verbose=1,\n",
              "                   warm_start=False)"
            ]
          },
          "metadata": {
            "tags": []
          },
          "execution_count": 62
        }
      ]
    },
    {
      "cell_type": "code",
      "metadata": {
        "id": "88VHwXbCjeWp",
        "colab_type": "code",
        "colab": {}
      },
      "source": [
        "y_pred=model.predict(X_test)"
      ],
      "execution_count": null,
      "outputs": []
    },
    {
      "cell_type": "code",
      "metadata": {
        "id": "LYklPDZGjWrB",
        "colab_type": "code",
        "colab": {
          "base_uri": "https://localhost:8080/",
          "height": 50
        },
        "outputId": "92d637d6-f9d1-4c07-bb06-615bb5040fc0"
      },
      "source": [
        "sklearn_test_accuracy = accuracy_score(y_test, y_pred)\n",
        "\n",
        "print(f\"\\nAccuracy in testing set by sklearn model: {sklearn_test_accuracy}\")"
      ],
      "execution_count": null,
      "outputs": [
        {
          "output_type": "stream",
          "text": [
            "\n",
            "Accuracy in testing set by sklearn model: 0.9278846153846154\n"
          ],
          "name": "stdout"
        }
      ]
    }
  ]
}