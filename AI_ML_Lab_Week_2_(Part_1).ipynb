{
  "nbformat": 4,
  "nbformat_minor": 0,
  "metadata": {
    "colab": {
      "name": "AI/ML Lab Week 2 (Part 1).ipynb",
      "provenance": [],
      "collapsed_sections": [],
      "authorship_tag": "ABX9TyNT0D2DXJeM36p8PYsC7gs1"
    },
    "kernelspec": {
      "name": "python3",
      "display_name": "Python 3"
    }
  },
  "cells": [
    {
      "cell_type": "code",
      "metadata": {
        "id": "a_B5iVXubXwv",
        "colab_type": "code",
        "colab": {}
      },
      "source": [
        "import numpy as np\n",
        "import matplotlib.pyplot as plt\n",
        "import pandas as pd"
      ],
      "execution_count": null,
      "outputs": []
    },
    {
      "cell_type": "code",
      "metadata": {
        "id": "7ObyRGq3Yifv",
        "colab_type": "code",
        "colab": {
          "base_uri": "https://localhost:8080/",
          "height": 202
        },
        "outputId": "9273413a-36ed-4c82-eed0-26ab85d08ec3"
      },
      "source": [
        "# Read the data from provided dir\n",
        "!wget \"https://raw.githubusercontent.com/DeepConnectAI/challenge-week-2/master/data/simple_linear_data.csv\""
      ],
      "execution_count": null,
      "outputs": [
        {
          "output_type": "stream",
          "text": [
            "--2020-08-18 12:18:33--  https://raw.githubusercontent.com/DeepConnectAI/challenge-week-2/master/data/simple_linear_data.csv\n",
            "Resolving raw.githubusercontent.com (raw.githubusercontent.com)... 151.101.0.133, 151.101.64.133, 151.101.128.133, ...\n",
            "Connecting to raw.githubusercontent.com (raw.githubusercontent.com)|151.101.0.133|:443... connected.\n",
            "HTTP request sent, awaiting response... 200 OK\n",
            "Length: 2326 (2.3K) [text/plain]\n",
            "Saving to: ‘simple_linear_data.csv.1’\n",
            "\n",
            "\rsimple_linear_data.   0%[                    ]       0  --.-KB/s               \rsimple_linear_data. 100%[===================>]   2.27K  --.-KB/s    in 0s      \n",
            "\n",
            "2020-08-18 12:18:34 (40.6 MB/s) - ‘simple_linear_data.csv.1’ saved [2326/2326]\n",
            "\n"
          ],
          "name": "stdout"
        }
      ]
    },
    {
      "cell_type": "code",
      "metadata": {
        "id": "gZKaN517ZAXY",
        "colab_type": "code",
        "colab": {
          "base_uri": "https://localhost:8080/",
          "height": 402
        },
        "outputId": "b6821eac-fa49-47f5-d330-dd6ee0bd7f89"
      },
      "source": [
        "data = pd.read_csv(\"/content/simple_linear_data.csv\", header=0)\n",
        "data = data[(data['G3']!=0)|((data['G2']==0)&(data['G3']==0))]\n",
        "data"
      ],
      "execution_count": null,
      "outputs": [
        {
          "output_type": "execute_result",
          "data": {
            "text/html": [
              "<div>\n",
              "<style scoped>\n",
              "    .dataframe tbody tr th:only-of-type {\n",
              "        vertical-align: middle;\n",
              "    }\n",
              "\n",
              "    .dataframe tbody tr th {\n",
              "        vertical-align: top;\n",
              "    }\n",
              "\n",
              "    .dataframe thead th {\n",
              "        text-align: right;\n",
              "    }\n",
              "</style>\n",
              "<table border=\"1\" class=\"dataframe\">\n",
              "  <thead>\n",
              "    <tr style=\"text-align: right;\">\n",
              "      <th></th>\n",
              "      <th>G2</th>\n",
              "      <th>G3</th>\n",
              "    </tr>\n",
              "  </thead>\n",
              "  <tbody>\n",
              "    <tr>\n",
              "      <th>0</th>\n",
              "      <td>30</td>\n",
              "      <td>30</td>\n",
              "    </tr>\n",
              "    <tr>\n",
              "      <th>1</th>\n",
              "      <td>25</td>\n",
              "      <td>30</td>\n",
              "    </tr>\n",
              "    <tr>\n",
              "      <th>2</th>\n",
              "      <td>40</td>\n",
              "      <td>50</td>\n",
              "    </tr>\n",
              "    <tr>\n",
              "      <th>3</th>\n",
              "      <td>70</td>\n",
              "      <td>75</td>\n",
              "    </tr>\n",
              "    <tr>\n",
              "      <th>4</th>\n",
              "      <td>50</td>\n",
              "      <td>50</td>\n",
              "    </tr>\n",
              "    <tr>\n",
              "      <th>...</th>\n",
              "      <td>...</td>\n",
              "      <td>...</td>\n",
              "    </tr>\n",
              "    <tr>\n",
              "      <th>390</th>\n",
              "      <td>45</td>\n",
              "      <td>45</td>\n",
              "    </tr>\n",
              "    <tr>\n",
              "      <th>391</th>\n",
              "      <td>80</td>\n",
              "      <td>80</td>\n",
              "    </tr>\n",
              "    <tr>\n",
              "      <th>392</th>\n",
              "      <td>40</td>\n",
              "      <td>35</td>\n",
              "    </tr>\n",
              "    <tr>\n",
              "      <th>393</th>\n",
              "      <td>60</td>\n",
              "      <td>50</td>\n",
              "    </tr>\n",
              "    <tr>\n",
              "      <th>394</th>\n",
              "      <td>45</td>\n",
              "      <td>45</td>\n",
              "    </tr>\n",
              "  </tbody>\n",
              "</table>\n",
              "<p>370 rows × 2 columns</p>\n",
              "</div>"
            ],
            "text/plain": [
              "     G2  G3\n",
              "0    30  30\n",
              "1    25  30\n",
              "2    40  50\n",
              "3    70  75\n",
              "4    50  50\n",
              "..   ..  ..\n",
              "390  45  45\n",
              "391  80  80\n",
              "392  40  35\n",
              "393  60  50\n",
              "394  45  45\n",
              "\n",
              "[370 rows x 2 columns]"
            ]
          },
          "metadata": {
            "tags": []
          },
          "execution_count": 252
        }
      ]
    },
    {
      "cell_type": "code",
      "metadata": {
        "id": "0awPIWZzZNXL",
        "colab_type": "code",
        "colab": {
          "base_uri": "https://localhost:8080/",
          "height": 402
        },
        "outputId": "21f2e186-f181-413c-fc82-896440849fd9"
      },
      "source": [
        "# Add column which has all 1s\n",
        "# The idea is that weight corresponding to this column is equal to intercept\n",
        "# This way it is efficient and easier to handle the bias/intercept term\n",
        "\n",
        "#TASK 2\n",
        "data.insert(0,\"bias\", 1)\n",
        "data"
      ],
      "execution_count": null,
      "outputs": [
        {
          "output_type": "execute_result",
          "data": {
            "text/html": [
              "<div>\n",
              "<style scoped>\n",
              "    .dataframe tbody tr th:only-of-type {\n",
              "        vertical-align: middle;\n",
              "    }\n",
              "\n",
              "    .dataframe tbody tr th {\n",
              "        vertical-align: top;\n",
              "    }\n",
              "\n",
              "    .dataframe thead th {\n",
              "        text-align: right;\n",
              "    }\n",
              "</style>\n",
              "<table border=\"1\" class=\"dataframe\">\n",
              "  <thead>\n",
              "    <tr style=\"text-align: right;\">\n",
              "      <th></th>\n",
              "      <th>bias</th>\n",
              "      <th>G2</th>\n",
              "      <th>G3</th>\n",
              "    </tr>\n",
              "  </thead>\n",
              "  <tbody>\n",
              "    <tr>\n",
              "      <th>0</th>\n",
              "      <td>1</td>\n",
              "      <td>30</td>\n",
              "      <td>30</td>\n",
              "    </tr>\n",
              "    <tr>\n",
              "      <th>1</th>\n",
              "      <td>1</td>\n",
              "      <td>25</td>\n",
              "      <td>30</td>\n",
              "    </tr>\n",
              "    <tr>\n",
              "      <th>2</th>\n",
              "      <td>1</td>\n",
              "      <td>40</td>\n",
              "      <td>50</td>\n",
              "    </tr>\n",
              "    <tr>\n",
              "      <th>3</th>\n",
              "      <td>1</td>\n",
              "      <td>70</td>\n",
              "      <td>75</td>\n",
              "    </tr>\n",
              "    <tr>\n",
              "      <th>4</th>\n",
              "      <td>1</td>\n",
              "      <td>50</td>\n",
              "      <td>50</td>\n",
              "    </tr>\n",
              "    <tr>\n",
              "      <th>...</th>\n",
              "      <td>...</td>\n",
              "      <td>...</td>\n",
              "      <td>...</td>\n",
              "    </tr>\n",
              "    <tr>\n",
              "      <th>390</th>\n",
              "      <td>1</td>\n",
              "      <td>45</td>\n",
              "      <td>45</td>\n",
              "    </tr>\n",
              "    <tr>\n",
              "      <th>391</th>\n",
              "      <td>1</td>\n",
              "      <td>80</td>\n",
              "      <td>80</td>\n",
              "    </tr>\n",
              "    <tr>\n",
              "      <th>392</th>\n",
              "      <td>1</td>\n",
              "      <td>40</td>\n",
              "      <td>35</td>\n",
              "    </tr>\n",
              "    <tr>\n",
              "      <th>393</th>\n",
              "      <td>1</td>\n",
              "      <td>60</td>\n",
              "      <td>50</td>\n",
              "    </tr>\n",
              "    <tr>\n",
              "      <th>394</th>\n",
              "      <td>1</td>\n",
              "      <td>45</td>\n",
              "      <td>45</td>\n",
              "    </tr>\n",
              "  </tbody>\n",
              "</table>\n",
              "<p>370 rows × 3 columns</p>\n",
              "</div>"
            ],
            "text/plain": [
              "     bias  G2  G3\n",
              "0       1  30  30\n",
              "1       1  25  30\n",
              "2       1  40  50\n",
              "3       1  70  75\n",
              "4       1  50  50\n",
              "..    ...  ..  ..\n",
              "390     1  45  45\n",
              "391     1  80  80\n",
              "392     1  40  35\n",
              "393     1  60  50\n",
              "394     1  45  45\n",
              "\n",
              "[370 rows x 3 columns]"
            ]
          },
          "metadata": {
            "tags": []
          },
          "execution_count": 253
        }
      ]
    },
    {
      "cell_type": "code",
      "metadata": {
        "id": "4QAAYwqsaqqI",
        "colab_type": "code",
        "colab": {}
      },
      "source": [
        "# Define X (input features) and y (output feature) \n",
        "data.dropna(0) #remove rows with NaN values\n",
        "#X = data.drop(['G3'], axis = 1).to_numpy()\n",
        "\n",
        "#TASK 1\n",
        "X= data[['bias','G2']].to_numpy()\n",
        "y = data['G3'].to_numpy()"
      ],
      "execution_count": null,
      "outputs": []
    },
    {
      "cell_type": "code",
      "metadata": {
        "id": "lPkZKStadCLs",
        "colab_type": "code",
        "colab": {
          "base_uri": "https://localhost:8080/",
          "height": 50
        },
        "outputId": "a80c1cb6-6376-457e-fe73-8afa5413698b"
      },
      "source": [
        "#TASK 4\n",
        "X_shape = X.shape\n",
        "X_type  = type(X)\n",
        "y_shape = y.shape\n",
        "y_type  = type(y)\n",
        "print(f'X: Type-{X_type}, Shape-{X_shape}')\n",
        "print(f'y: Type-{y_type}, Shape-{y_shape}')"
      ],
      "execution_count": null,
      "outputs": [
        {
          "output_type": "stream",
          "text": [
            "X: Type-<class 'numpy.ndarray'>, Shape-(370, 2)\n",
            "y: Type-<class 'numpy.ndarray'>, Shape-(370,)\n"
          ],
          "name": "stdout"
        }
      ]
    },
    {
      "cell_type": "code",
      "metadata": {
        "id": "g-kKI6WbfQAE",
        "colab_type": "code",
        "colab": {
          "base_uri": "https://localhost:8080/",
          "height": 302
        },
        "outputId": "53347383-8be9-4b36-f1db-dfc8d3997f36"
      },
      "source": [
        "#TASK 3\n",
        "X[40:55],y[40:55]"
      ],
      "execution_count": null,
      "outputs": [
        {
          "output_type": "execute_result",
          "data": {
            "text/plain": [
              "(array([[ 1, 50],\n",
              "        [ 1, 60],\n",
              "        [ 1, 90],\n",
              "        [ 1, 40],\n",
              "        [ 1, 50],\n",
              "        [ 1, 40],\n",
              "        [ 1, 60],\n",
              "        [ 1, 95],\n",
              "        [ 1, 75],\n",
              "        [ 1, 35],\n",
              "        [ 1, 65],\n",
              "        [ 1, 65],\n",
              "        [ 1, 55],\n",
              "        [ 1, 50],\n",
              "        [ 1, 65]]),\n",
              " array([ 55,  60,  90,  55,  45,  30,  55, 100,  70,  35,  65,  65,  50,\n",
              "         55,  65]))"
            ]
          },
          "metadata": {
            "tags": []
          },
          "execution_count": 256
        }
      ]
    },
    {
      "cell_type": "code",
      "metadata": {
        "id": "wRklZHaMdDfS",
        "colab_type": "code",
        "colab": {
          "base_uri": "https://localhost:8080/",
          "height": 295
        },
        "outputId": "c2168a57-b803-483f-cb83-2432d8585bf0"
      },
      "source": [
        "# DO NOT EDIT THIS CODE CELL\n",
        "plt.scatter(X[:,1],y)\n",
        "plt.title('Relation between second year grades and third year grades')\n",
        "plt.xlabel('G2 (X - Second year grades)')\n",
        "plt.ylabel('G3 (Y - Third year grades)')\n",
        "plt.show()"
      ],
      "execution_count": null,
      "outputs": [
        {
          "output_type": "display_data",
          "data": {
            "image/png": "[encoded data removed]",
            "text/plain": [
              "<Figure size 432x288 with 1 Axes>"
            ]
          },
          "metadata": {
            "tags": [],
            "needs_background": "light"
          }
        }
      ]
    },
    {
      "cell_type": "code",
      "metadata": {
        "id": "RtG6um8pe9bH",
        "colab_type": "code",
        "colab": {}
      },
      "source": [
        "  def predict(X, weights):\n",
        "    '''\n",
        "    weights   : array (2,1) w0 and w1\n",
        "    X         : array (m,2) x0 (intercept=1) and x1\n",
        "    \n",
        "    Returns predicted y using hyothesis linear function defined by given weights\n",
        "    '''\n",
        "    ### START CODE HERE ###\n",
        "    y_pred = X@weights\n",
        "    ### END CODE HERE ###\n",
        "    \n",
        "    assert (y_pred.shape==(X.shape[0],)), 'Wrong implementation of predict function. Check carefully'\n",
        "    \n",
        "    return y_pred\n",
        "#predict(X[:5],np.random.rand(2))\n",
        "#y[:5]"
      ],
      "execution_count": null,
      "outputs": []
    },
    {
      "cell_type": "code",
      "metadata": {
        "id": "JCpUPPZM4kDu",
        "colab_type": "code",
        "colab": {}
      },
      "source": [
        "def mean_squared_error(y_true, y_pred) : \n",
        "    '''\n",
        "    y_true : (m,1)\n",
        "    y_pred : (m,1)\n",
        "    \n",
        "    Return the mean squared error\n",
        "    '''\n",
        "    ### START CODE HERE ###\n",
        "    #from sklearn.metrics import mean_squared_error as mse\n",
        "    #loss = mse(y_true, y_pred)\n",
        "    a=np.zeros(len(y_true))\n",
        "    for i in range(len(y_true)):\n",
        "      a[i] = (y_true[i] - y_pred[i])**2\n",
        "    s=np.sum(a)\n",
        "    loss = s/len(y_true)\n",
        "    ### END CODE HERE ###\n",
        "    \n",
        "    return loss\n",
        "y_p=predict(X[:5],np.random.rand(2))\n",
        "mean_squared_error(y[:5], y_p) "
      ],
      "execution_count": null,
      "outputs": []
    },
    {
      "cell_type": "code",
      "metadata": {
        "id": "Tvj3Z9wH57Dj",
        "colab_type": "code",
        "colab": {}
      },
      "source": [
        "def gradient(X, y_true, y_pred):\n",
        "    '''\n",
        "    X      : array (m,2)\n",
        "    y_true : array (m,1)\n",
        "    y_pred : array (m,1)\n",
        "    \n",
        "    Returns a numpy array with gradients. Shape (2,1)\n",
        "    '''\n",
        "    # Initialize the gradient vector for w0 (intercept/bias) and w1 respectively\n",
        "    grad = np.zeros(2,)\n",
        "    \n",
        "    ### START CODE HERE ###\n",
        "    n=X.shape[0]\n",
        "    #print(n)\n",
        "    #grad[1] = (1/n) * np.sum(X[:,1]*(y_true - y_pred))\n",
        "    #grad[0] = np.sum(X* (y_true - y_pred),1)\n",
        "    grad[0] = np.mean((y_pred - y_true))\n",
        "    grad[1] = np.mean((y_pred - y_true)*X[:,1])\n",
        "    \n",
        "    ### END CODE HERE ###\n",
        "    \n",
        "    return grad\n",
        "#x= np.array([[1,2,3,4],[4,3,4,5]])\n",
        "#x.shape[0]"
      ],
      "execution_count": null,
      "outputs": []
    },
    {
      "cell_type": "code",
      "metadata": {
        "id": "YnEZnE0QOLWD",
        "colab_type": "code",
        "colab": {}
      },
      "source": [
        "def gradient_descent(X, y, learning_rate=0.001, max_iterations=100):\n",
        "    '''\n",
        "    X              : Array (m,2)\n",
        "    y              : Array (m,1)\n",
        "    learning_rate  : Learning rate\n",
        "    max_iterations : Maximum iteratons\n",
        "    \n",
        "    Returns : weights vector (2,1)\n",
        "            : losses (List)\n",
        "    '''\n",
        "    # Initialise weights vector of random values of size (2,1)\n",
        "    weights = np.random.rand(2)\n",
        "    #weights = np.zeros(2,)\n",
        "    # Initialize a list to record all the losses \n",
        "    losses  = []\n",
        "    \n",
        "    ### START CODE HERE ###\n",
        "    for i in range(max_iterations):\n",
        "      y_pred = predict(X,weights)\n",
        "      #print(weights)\n",
        "      dc,dm=gradient(X, y, y_pred) #dc=intercept part derivative dm=slope part derivative\n",
        "      #print(\"grad\",dc,dm)\n",
        "      losses.append(mean_squared_error(y,y_pred))\n",
        "      weights[0] = weights[0] - learning_rate*dc\n",
        "      weights[1] = weights[1] - learning_rate*dm\n",
        "    ### END CODE HERE ###\n",
        "    \n",
        "    return weights, losses"
      ],
      "execution_count": null,
      "outputs": []
    },
    {
      "cell_type": "code",
      "metadata": {
        "id": "qOCxmDzHSBk_",
        "colab_type": "code",
        "colab": {
          "base_uri": "https://localhost:8080/",
          "height": 34
        },
        "outputId": "1117d217-9022-49de-b854-b0d4fa495ac4"
      },
      "source": [
        "# Perform gradient descent\n",
        "optimal_weights, losses = gradient_descent(X, y, 0.00001,100)\n",
        "optimal_weights"
      ],
      "execution_count": null,
      "outputs": [
        {
          "output_type": "execute_result",
          "data": {
            "text/plain": [
              "array([0.81494513, 0.98665149])"
            ]
          },
          "metadata": {
            "tags": []
          },
          "execution_count": 262
        }
      ]
    },
    {
      "cell_type": "code",
      "metadata": {
        "id": "1HCLEPSPSEoR",
        "colab_type": "code",
        "colab": {
          "base_uri": "https://localhost:8080/",
          "height": 34
        },
        "outputId": "a447389a-72cb-417f-b820-6e7b032f21a3"
      },
      "source": [
        "# DO NOT CHANGE THE FOLLOWING CODE CELLS\n",
        "# Print final loss\n",
        "print(\"Mean squared error:\", losses[-1])"
      ],
      "execution_count": null,
      "outputs": [
        {
          "output_type": "stream",
          "text": [
            "Mean squared error: 17.590788222891735\n"
          ],
          "name": "stdout"
        }
      ]
    },
    {
      "cell_type": "code",
      "metadata": {
        "id": "EtIC3riUBhrL",
        "colab_type": "code",
        "colab": {
          "base_uri": "https://localhost:8080/",
          "height": 295
        },
        "outputId": "8d33d8cf-7ed9-43d3-9801-e2a39323ec1e"
      },
      "source": [
        "# Plot the loss curve\n",
        "plt.plot([i for i in range(len(losses))], losses)\n",
        "plt.title(\"Loss curve\")\n",
        "plt.xlabel(\"Iteration num\")\n",
        "plt.ylabel(\"Loss\")\n",
        "plt.show()"
      ],
      "execution_count": null,
      "outputs": [
        {
          "output_type": "display_data",
          "data": {
            "image/png": "[encoded data removed]",
            "text/plain": [
              "<Figure size 432x288 with 1 Axes>"
            ]
          },
          "metadata": {
            "tags": [],
            "needs_background": "light"
          }
        }
      ]
    },
    {
      "cell_type": "code",
      "metadata": {
        "id": "u_iarxUMBih_",
        "colab_type": "code",
        "colab": {}
      },
      "source": [
        "# Make predictions using trained weights\n",
        "y_pred = predict(X, optimal_weights)"
      ],
      "execution_count": null,
      "outputs": []
    },
    {
      "cell_type": "code",
      "metadata": {
        "id": "3ZsaOgSzBifY",
        "colab_type": "code",
        "colab": {
          "base_uri": "https://localhost:8080/",
          "height": 295
        },
        "outputId": "91059cfa-9e62-41b7-ecbb-ea6a5a92ce55"
      },
      "source": [
        "# Visualize the results by plotting it\n",
        "plt.scatter(X[:,1], y, c='r', label='Actual scores')\n",
        "plt.plot(X[:,1], y_pred, c='g', label='Fitted line | predictions')\n",
        "plt.legend()\n",
        "plt.title(\"Linear regression fitted line\")\n",
        "plt.xlabel(\"Second year grades\")\n",
        "plt.ylabel(\"Third year grades\")\n",
        "plt.show()"
      ],
      "execution_count": null,
      "outputs": [
        {
          "output_type": "display_data",
          "data": {
            "image/png": "[encoded data removed]",
            "text/plain": [
              "<Figure size 432x288 with 1 Axes>"
            ]
          },
          "metadata": {
            "tags": [],
            "needs_background": "light"
          }
        }
      ]
    }
  ]
}